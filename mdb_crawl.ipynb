{
 "cells": [
  {
   "cell_type": "code",
   "execution_count": 1,
   "metadata": {},
   "outputs": [],
   "source": [
    "import requests\n",
    "import pandas as pd\n",
    "from bs4 import BeautifulSoup\n",
    "from tqdm import tqdm\n",
    "from selenium import webdriver\n",
    "from selenium.webdriver.common.by import By\n",
    "from selenium.webdriver.support.ui import WebDriverWait\n",
    "from selenium.webdriver.support import expected_conditions as EC"
   ]
  },
  {
   "cell_type": "code",
   "execution_count": null,
   "metadata": {},
   "outputs": [],
   "source": [
    "chrome_options = webdriver.ChromeOptions()\n",
    "# options not to use an actual Chrome window (delete the two lines if needed)\n",
    "chrome_options.add_argument('--headless') \n",
    "chrome_options.add_argument('window-size=1920x1080');\n",
    "\n",
    "# add the path to your chromedriver\n",
    "driver = webdriver.Chrome('/path/to/chromedriver', chrome_options=chrome_options)\n",
    "\n",
    "driver.get('https://www.bundestag.de/abgeordnete/biografien')\n",
    "\n",
    "try:\n",
    "    # explicit wait for button to appear\n",
    "    button = WebDriverWait(driver, 10).until(\n",
    "        EC.presence_of_element_located((By.XPATH, '//*[@title=\"Listenansicht\"]'))\n",
    "    )\n",
    "    button.click()\n",
    "\n",
    "    # explicit wait for new element to verify page is loaded\n",
    "    new_element = WebDriverWait(driver, 10).until(\n",
    "        EC.presence_of_element_located((By.XPATH, '//*[@title=\"Bilderansicht\"]'))\n",
    "    )\n",
    "    sel_soup = BeautifulSoup(driver.page_source, \"html.parser\")\n",
    "\n",
    "except:\n",
    "    driver.quit()\n",
    "\n",
    "# isolate relevant part of the html with relevant links to individual pages\n",
    "html_list = sel_soup.find(\"ul\", {\"class\", \"bt-list-holder\"})"
   ]
  },
  {
   "cell_type": "code",
   "execution_count": 12,
   "metadata": {},
   "outputs": [],
   "source": [
    "url_list = []\n",
    "\n",
    "# pull all links from html\n",
    "for link in html_list.find_all(\"a\", {\"class\" : \"bt-open-in-overlay\"}):\n",
    "    url_list.append(str(\"https://www.bundestag.de\")+link.get(\"href\"))    \n",
    "\n",
    "url_list = [k for k in url_list if 'biografien' in k]\n",
    "\n",
    "len(url_list)"
   ]
  },
  {
   "cell_type": "code",
   "execution_count": null,
   "metadata": {},
   "outputs": [],
   "source": [
    "mdb_df = pd.DataFrame()\n",
    "\n",
    "for url in tqdm(url_list):\n",
    "    r = requests.get(url)\n",
    "\n",
    "    temp_soup = BeautifulSoup(r.content, \"html.parser\")\n",
    "\n",
    "    temp_df = pd.DataFrame()\n",
    "\n",
    "    # get title section with name and party of the mdb\n",
    "    title = temp_soup.find('div', attrs={'class': 'col-xs-8 col-md-9 bt-biografie-name'})\n",
    "    title = title.findChildren(\"h3\")[0].text.strip()\n",
    "\n",
    "    # isolate name and party from string\n",
    "    name = title.split(\",\",1)[0]\n",
    "    party = title.split(\", \",1)[1]\n",
    "\n",
    "    temp_df[\"name\"] = [name]\n",
    "    temp_df[\"party\"] = [party]\n",
    "\n",
    "    # loop over external link section of the page and get title and url\n",
    "    for link in temp_soup.find_all(\"a\", {\"class\" : \"bt-link-extern\"}):\n",
    "        category = str(link.get(\"title\")).lower()\n",
    "        url = str(link.get(\"href\"))\n",
    "\n",
    "        temp_df[category] = [url]\n",
    "    \n",
    "    mdb_df = mdb_df.append(temp_df, ignore_index = True)\n"
   ]
  },
  {
   "cell_type": "code",
   "execution_count": null,
   "metadata": {},
   "outputs": [],
   "source": [
    "# inspect dataframe\n",
    "mdb_df.head()"
   ]
  },
  {
   "cell_type": "code",
   "execution_count": null,
   "metadata": {},
   "outputs": [],
   "source": [
    "# clean and export data frame as csv\n",
    "mdb_df_clean = mdb_df[[\"name\", \"party\", \"homepage\", \"twitter\", \"instagram\", \"facebook\", \"tiktok\", \"youtube\", \"linkedin\", \"xing\"]]\n",
    "mdb_df_clean.to_csv(\"mdb_social_media.csv\")"
   ]
  }
 ],
 "metadata": {
  "interpreter": {
   "hash": "d99cafe4c174b2b44bd35f69a9f9f4db6ae957380b95445e310397cf4491890f"
  },
  "kernelspec": {
   "display_name": "Python 3.8.12 64-bit ('ma_condaenv': conda)",
   "language": "python",
   "name": "python3"
  },
  "language_info": {
   "codemirror_mode": {
    "name": "ipython",
    "version": 3
   },
   "file_extension": ".py",
   "mimetype": "text/x-python",
   "name": "python",
   "nbconvert_exporter": "python",
   "pygments_lexer": "ipython3",
   "version": "3.8.12"
  },
  "orig_nbformat": 4
 },
 "nbformat": 4,
 "nbformat_minor": 2
}
